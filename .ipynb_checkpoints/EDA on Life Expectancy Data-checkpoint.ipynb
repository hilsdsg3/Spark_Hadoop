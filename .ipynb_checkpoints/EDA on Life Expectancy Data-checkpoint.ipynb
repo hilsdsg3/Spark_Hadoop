{
 "cells": [
  {
   "cell_type": "markdown",
   "metadata": {},
   "source": [
    "\n",
    "# 1. Calculating Five Point Summary and Rendering Boxplot"
   ]
  },
  {
   "cell_type": "code",
   "execution_count": 1,
   "metadata": {
    "collapsed": true
   },
   "outputs": [],
   "source": [
    "import findspark\n",
    "findspark.init()"
   ]
  },
  {
   "cell_type": "code",
   "execution_count": 2,
   "metadata": {
    "collapsed": true
   },
   "outputs": [],
   "source": [
    "from pyspark.sql import SparkSession\n",
    "import pandas as pd\n",
    "import numpy as np"
   ]
  },
  {
   "cell_type": "code",
   "execution_count": 3,
   "metadata": {
    "collapsed": true
   },
   "outputs": [],
   "source": [
    "sparkSession = SparkSession.builder \\\n",
    "       .master(\"local\") \\\n",
    "       .appName(\"Spark ML\") \\\n",
    "       .getOrCreate()"
   ]
  },
  {
   "cell_type": "code",
   "execution_count": 4,
   "metadata": {},
   "outputs": [],
   "source": [
    "sparkDf = sparkSession.read.format(\"csv\").option(\"delimiter\",\" \"). \\\n",
    "option(\"inferSchema\",\"true\").load(\"../src/main/resources/LifeExpentancy.txt\")"
   ]
  },
  {
   "cell_type": "code",
   "execution_count": 5,
   "metadata": {},
   "outputs": [
    {
     "name": "stdout",
     "output_type": "stream",
     "text": [
      "root\n",
      " |-- _c0: string (nullable = true)\n",
      " |-- _c1: string (nullable = true)\n",
      " |-- _c2: double (nullable = true)\n",
      " |-- _c3: string (nullable = true)\n",
      " |-- _c4: string (nullable = true)\n",
      "\n"
     ]
    },
    {
     "data": {
      "text/plain": [
       "Row(_c0=u'Afghanistan', _c1=None, _c2=48.673, _c3=None, _c4=u'SAs')"
      ]
     },
     "execution_count": 5,
     "metadata": {},
     "output_type": "execute_result"
    }
   ],
   "source": [
    "sparkDf.printSchema()\n",
    "sparkDf.head()"
   ]
  },
  {
   "cell_type": "code",
   "execution_count": 6,
   "metadata": {},
   "outputs": [],
   "source": [
    "from pyspark.sql.types import StructType,StructField,DoubleType,StringType\n",
    "schema = StructType([\n",
    "\t   StructField(\"Country\",StringType()),\n",
    "\t   StructField(\"LifeExp\",DoubleType()),\n",
    "\t   StructField(\"Region\",StringType())\n",
    "])\n",
    "selectedDF = sparkDf.select(\"_c0\",\"_c2\",\"_c4\")\n",
    "lifeExpectancyDF = sparkSession.createDataFrame(selectedDF.rdd,schema)"
   ]
  },
  {
   "cell_type": "code",
   "execution_count": 7,
   "metadata": {},
   "outputs": [
    {
     "name": "stdout",
     "output_type": "stream",
     "text": [
      "+-----------+-------+------+\n",
      "|    Country|LifeExp|Region|\n",
      "+-----------+-------+------+\n",
      "|Afghanistan| 48.673|   SAs|\n",
      "|    Albania| 76.918|  EuCA|\n",
      "|    Algeria| 73.131|  MENA|\n",
      "|     Angola| 51.093|   SSA|\n",
      "|  Argentina| 75.901|  Amer|\n",
      "+-----------+-------+------+\n",
      "only showing top 5 rows\n",
      "\n"
     ]
    }
   ],
   "source": [
    "lifeExpectancyDF.show(5)"
   ]
  },
  {
   "cell_type": "code",
   "execution_count": 15,
   "metadata": {},
   "outputs": [
    {
     "name": "stdout",
     "output_type": "stream",
     "text": [
      "root\n",
      " |-- summary: string (nullable = true)\n",
      " |-- LifeExp: string (nullable = true)\n",
      "\n",
      "+-------+-----------------+\n",
      "|summary|          LifeExp|\n",
      "+-------+-----------------+\n",
      "|  count|              197|\n",
      "|   mean|69.86281725888323|\n",
      "| stddev|9.668736205594511|\n",
      "|    min|           47.794|\n",
      "|    max|           83.394|\n",
      "+-------+-----------------+\n",
      "\n"
     ]
    }
   ],
   "source": [
    "summary = lifeExpectancyDF.describe(\"LifeExp\")\n",
    "summary.printSchema()\n",
    "summary.show()\n",
    "pandaDf = summary.toPandas()\n",
    "min_string = pandaDf[pandaDf['summary'] == 'min']['LifeExp'].iloc[0]\n",
    "max_string = pandaDf[pandaDf['summary'] == 'max']['LifeExp'].iloc[0]\n",
    "mean_string = pandaDf[pandaDf['summary'] == 'mean']['LifeExp'].iloc[0]"
   ]
  },
  {
   "cell_type": "code",
   "execution_count": 21,
   "metadata": {},
   "outputs": [],
   "source": [
    "medianAndQuantiles = lifeExpectancyDF.stat.approxQuantile(\"LifeExp\",[0.25,0.5,0.75],0.0)\n",
    "(q1,median,q3) = (medianAndQuantiles[0], medianAndQuantiles[1], medianAndQuantiles[2])"
   ]
  },
  {
   "cell_type": "code",
   "execution_count": 27,
   "metadata": {},
   "outputs": [],
   "source": [
    "import matplotlib.pyplot as plt\n",
    "%matplotlib inline"
   ]
  },
  {
   "cell_type": "code",
   "execution_count": 28,
   "metadata": {},
   "outputs": [],
   "source": [
    "# Rendering box plot from actual data\n",
    "#plt.boxplot(fivepointsummary)\n",
    "#plt.show()"
   ]
  },
  {
   "cell_type": "code",
   "execution_count": 29,
   "metadata": {},
   "outputs": [
    {
     "data": {
      "image/png": "[encoded data removed]",
      "text/plain": [
       "<Figure size 432x288 with 1 Axes>"
      ]
     },
     "metadata": {},
     "output_type": "display_data"
    }
   ],
   "source": [
    "#Boxplot from precomputed values\n",
    "item = {}\n",
    "\n",
    "item[\"label\"] = 'Life Expectancy' \n",
    "item[\"mean\"] = float(mean_string) \n",
    "item[\"med\"] = median \n",
    "item[\"q1\"] = q1\n",
    "item[\"q3\"] = q3\n",
    "item[\"whislo\"] = float(min_string) \n",
    "item[\"whishi\"] = float(max_string)\n",
    "item[\"fliers\"] = []\n",
    "stats = [item]\n",
    "\n",
    "fig, axes = plt.subplots(1, 1)\n",
    "axes.bxp(stats)\n",
    "axes.set_title('Five Point Summary')\n",
    "plt.show()"
   ]
  },
  {
   "cell_type": "markdown",
   "metadata": {},
   "source": [
    "# 2.Histograms"
   ]
  },
  {
   "cell_type": "code",
   "execution_count": 34,
   "metadata": {},
   "outputs": [
    {
     "name": "stdout",
     "output_type": "stream",
     "text": [
      "[47.794, 54.914, 62.034, 69.154, 76.274, 83.394]\n",
      "[24, 18, 32, 69, 54]\n"
     ]
    }
   ],
   "source": [
    "(startValues,counts) = lifeExpectancyDF.select(\"LifeExp\").rdd.map(lambda value: value[0]).histogram(5)\n",
    "print(startValues)\n",
    "print(counts)"
   ]
  },
  {
   "cell_type": "code",
   "execution_count": 45,
   "metadata": {},
   "outputs": [
    {
     "data": {
      "image/png": "[encoded data removed]",
      "text/plain": [
       "<Figure size 432x288 with 1 Axes>"
      ]
     },
     "metadata": {},
     "output_type": "display_data"
    }
   ],
   "source": [
    "mid_point_bins = startValues[:-1]\n",
    "widths = [abs(i - j+1) for i, j in zip(startValues[:-1], startValues[1:])]\n",
    "bar = plt.bar(mid_point_bins, counts, width=widths, color='b', align='edge')\n",
    "plt.show()"
   ]
  },
  {
   "cell_type": "code",
   "execution_count": null,
   "metadata": {
    "collapsed": true
   },
   "outputs": [],
   "source": []
  }
 ],
 "metadata": {
  "kernelspec": {
   "display_name": "Python 2",
   "language": "python",
   "name": "python2"
  },
  "language_info": {
   "codemirror_mode": {
    "name": "ipython",
    "version": 2
   },
   "file_extension": ".py",
   "mimetype": "text/x-python",
   "name": "python",
   "nbconvert_exporter": "python",
   "pygments_lexer": "ipython2",
   "version": "2.7.6"
  }
 },
 "nbformat": 4,
 "nbformat_minor": 2
}
